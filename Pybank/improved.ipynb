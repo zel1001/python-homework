{
 "cells": [
  {
   "cell_type": "code",
   "execution_count": 2,
   "id": "a3a7f96f-f8c4-40f4-bb7c-b73c4a950edc",
   "metadata": {},
   "outputs": [],
   "source": [
    "from pathlib import Path\n",
    "import csv\n",
    "import pandas as pd"
   ]
  },
  {
   "cell_type": "code",
   "execution_count": 3,
   "id": "adcb44bd-6d23-468b-8426-514aecbf508a",
   "metadata": {},
   "outputs": [
    {
     "name": "stdout",
     "output_type": "stream",
     "text": [
      "Current Working Directory: C:\\Users\\norma\\Desktop\\Git_recent\\python-homework\\Pybank\n"
     ]
    }
   ],
   "source": [
    "print(f\"Current Working Directory: {Path.cwd()}\")"
   ]
  },
  {
   "cell_type": "code",
   "execution_count": 4,
   "id": "5dac3b37-9ee2-4ade-8b6c-c0cbea2d0c0d",
   "metadata": {},
   "outputs": [],
   "source": [
    "csvpath = (r\"C:\\Users\\norma\\Desktop\\Git_recent\\python-homework\\Pybank\\budget_data.csv\")"
   ]
  },
  {
   "cell_type": "code",
   "execution_count": 5,
   "id": "d032bb7b-934b-47a0-a53f-bdbb6a91cf8a",
   "metadata": {},
   "outputs": [
    {
     "name": "stdout",
     "output_type": "stream",
     "text": [
      "        Date  Profit/Losses\n",
      "0   Jan-2010         867884\n",
      "1   Feb-2010         984655\n",
      "2   Mar-2010         322013\n",
      "3   Apr-2010         -69417\n",
      "4   May-2010         310503\n",
      "..       ...            ...\n",
      "81  Oct-2016         102685\n",
      "82  Nov-2016         795914\n",
      "83  Dec-2016          60988\n",
      "84  Jan-2017         138230\n",
      "85  Feb-2017         671099\n",
      "\n",
      "[86 rows x 2 columns]\n",
      "Date             Feb-2012\n",
      "Profit/Losses     1170593\n",
      "Name: 25, dtype: object\n",
      "Date             Sep-2013\n",
      "Profit/Losses    -1196225\n",
      "Name: 44, dtype: object\n"
     ]
    }
   ],
   "source": [
    "df = pd.read_csv(csvpath)\n",
    "print(df)\n",
    "print(df.loc[df['Profit/Losses'].argmax()])\n",
    "print(df.loc[df['Profit/Losses'].idxmin()])"
   ]
  },
  {
   "cell_type": "code",
   "execution_count": null,
   "id": "c53d15ce-0d00-4e34-8e9c-8387309aaa7b",
   "metadata": {},
   "outputs": [],
   "source": []
  }
 ],
 "metadata": {
  "kernelspec": {
   "display_name": "Python 3 (ipykernel)",
   "language": "python",
   "name": "python3"
  },
  "language_info": {
   "codemirror_mode": {
    "name": "ipython",
    "version": 3
   },
   "file_extension": ".py",
   "mimetype": "text/x-python",
   "name": "python",
   "nbconvert_exporter": "python",
   "pygments_lexer": "ipython3",
   "version": "3.7.15"
  }
 },
 "nbformat": 4,
 "nbformat_minor": 5
}
